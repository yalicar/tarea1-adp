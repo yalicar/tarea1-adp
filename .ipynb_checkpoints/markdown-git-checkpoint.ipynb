{
 "cells": [
  {
   "cell_type": "markdown",
   "metadata": {},
   "source": [
    "# Resumen sobre GIT"
   ]
  },
  {
   "cell_type": "markdown",
   "metadata": {},
   "source": [
    "GIT es un **VCS** por sus siglas en ingles Versión Control System, es una herramienta que sirve para dar seguimiento a los cambios del código fuente u otras colecciones de archivos o carpetas, adicionalmente de mantener el historial de cambio esta herramienta sirve para facilitar la colaboración. Los VCSs guardan metadatos los cuales registran quien creo cada instantánea, comentarios o mensajes asociados a cada instancian, fecha de edición etc. En los VCS cuando se trabajan en colaboración con otros es una herramienta invaluable para ver qué cambios se han realizado otras personas en el código, así como para resolver conflictos en el código recurrente."
   ]
  },
  {
   "cell_type": "markdown",
   "metadata": {},
   "source": [
    "## Modelo de datos con GIT"
   ]
  },
  {
   "cell_type": "markdown",
   "metadata": {},
   "source": [
    "GIT tiene un modelo bien pensado que habilita todas las buenas características del control de versiones, mantiene el historial, da soporte a las ramas, y permite la colaboración."
   ]
  },
  {
   "cell_type": "markdown",
   "metadata": {},
   "source": [
    "### Instantaneas"
   ]
  },
  {
   "cell_type": "markdown",
   "metadata": {},
   "source": [
    "Git modela el historial de una colección de archivos y carpetas dentro de algún directorio de nivel superior como instantáneas. Una instamtanea es un árbol de nivel superior que se está rastreando. En la terminología Git un archivo es llamado blob lo cual es un montón de bits y un directorio es llamado árbol. "
   ]
  },
  {
   "cell_type": "markdown",
   "metadata": {},
   "source": [
    "### Historial de modelado: relacionar instantaneas"
   ]
  },
  {
   "cell_type": "markdown",
   "metadata": {},
   "source": [
    "En GIT un historial es un gráfico acíclico dirigido de instantáneas, cada instantánea git se refiere a un conjunto de “padres” a las instantáneas que las precedieron, es un conjunto de padres en lugar de una, ya que una instantánea puede descender de un conjunto de padres debido a la fusión de dos ramas paralelas del desarrollo. "
   ]
  },
  {
   "cell_type": "markdown",
   "metadata": {},
   "source": [
    "GIT llama a estas instantáneas confirmaciones “COMMITS”, un historial de confirmaciones puede verse de la siguiente manera: "
   ]
  },
  {
   "cell_type": "markdown",
   "metadata": {},
   "source": [
    "<img src=\"imagen1.png\">"
   ]
  },
  {
   "cell_type": "markdown",
   "metadata": {},
   "source": [
    "### Modelo de datos con Pseudocodigo"
   ]
  },
  {
   "cell_type": "markdown",
   "metadata": {},
   "source": [
    "Un modelo de datos con pseudocodigo puede verse de la siguiente manera:"
   ]
  },
  {
   "cell_type": "markdown",
   "metadata": {},
   "source": [
    "<img src='imagen2.png'>"
   ]
  },
  {
   "cell_type": "markdown",
   "metadata": {},
   "source": [
    "### Objetos y direccionamiento de contenido"
   ]
  },
  {
   "cell_type": "markdown",
   "metadata": {},
   "source": [
    ">Un objeto puede ser:\n",
    "1. Blob\n",
    "2. Tree\n",
    "3. Commit"
   ]
  },
  {
   "cell_type": "markdown",
   "metadata": {},
   "source": [
    ">En el alamcen de datos de git todos los objetos se relacionan por hash SHA-1."
   ]
  },
  {
   "cell_type": "markdown",
   "metadata": {},
   "source": [
    "### Referencias"
   ]
  },
  {
   "cell_type": "markdown",
   "metadata": {},
   "source": [
    ">Todas las instancias se pueden representar por su hash SHA-1 pero presenta un inconveniente ya que los humanos no podemos recordar fácilmente una cadena de 40 caracteres, or lo que la solución a este problema son los nombres legibles llamados “Referencias”, las referencias son indicadores de confirmaciones "
   ]
  },
  {
   "cell_type": "markdown",
   "metadata": {},
   "source": [
    "### Repositorios"
   ]
  },
  {
   "cell_type": "markdown",
   "metadata": {},
   "source": [
    ">Los repositorios de GIT son aproximadamente datos, Objetos y referencias."
   ]
  },
  {
   "cell_type": "markdown",
   "metadata": {},
   "source": [
    "### Stagin area"
   ]
  },
  {
   "cell_type": "markdown",
   "metadata": {},
   "source": [
    ">Git permite especificar qué las modificaciones deben incluirse en la siguiente instantánea a través de un mecanismo llamado \"staging area\". El cual es un archivo en el directorio **git** en el que se encuentra informacion que estara en el proximo *COMMIT*."
   ]
  },
  {
   "cell_type": "markdown",
   "metadata": {},
   "source": [
    "### Interfaz de linea de comandos"
   ]
  },
  {
   "cell_type": "markdown",
   "metadata": {},
   "source": [
    "Git se puede utilizar de dos maneras, atraves de una interfaz grafica y atravez de la linea de comandos o terminal, para mayor informacion sobre los comandos que se pueden utilizar atravez de la interfaz pordemos consultar [Pro Git](https://git-scm.com/book/en/v2\n",
    "\"optional title\")."
   ]
  },
  {
   "cell_type": "markdown",
   "metadata": {},
   "source": [
    "## Procedimiento para uso de GIT"
   ]
  },
  {
   "cell_type": "markdown",
   "metadata": {},
   "source": [
    "Para la realizacion de la presente tarea se realizaron los siguientes pasos:"
   ]
  },
  {
   "cell_type": "markdown",
   "metadata": {},
   "source": [
    "1. Creacion de cuenta en [Github](https://github.com/\n",
    "\"optional title\")."
   ]
  },
  {
   "cell_type": "markdown",
   "metadata": {},
   "source": [
    "2. Creacion del repositorio en [Github](https://www.youtube.com/watch?v=Qy_rNobHRY0\n",
    "\"optional title\")."
   ]
  },
  {
   "cell_type": "markdown",
   "metadata": {},
   "source": [
    "3. Subir directorio a Git\n"
   ]
  },
  {
   "cell_type": "markdown",
   "metadata": {},
   "source": [
    "Comandos usados para movere atraves de direcctorios usando la terminal"
   ]
  },
  {
   "cell_type": "markdown",
   "metadata": {},
   "source": [
    "* ls , Comando utilizado para listar los documentos y direcctorios"
   ]
  },
  {
   "cell_type": "markdown",
   "metadata": {},
   "source": [
    "* cd /home/yalicar/Documents/maestria en data science/ciencia de datos/tarea1-adp, comando utilizado para ubicarse en la carpeta de trabajo."
   ]
  },
  {
   "cell_type": "markdown",
   "metadata": {},
   "source": [
    "Comandos utilizado para subir un repositorio a Github."
   ]
  },
  {
   "cell_type": "markdown",
   "metadata": {},
   "source": [
    "* Clonar el repositorio usando:\n",
    "```git\n",
    "git clone https://github.com/yalicar/tarea1-adp.git\n",
    "```"
   ]
  },
  {
   "cell_type": "markdown",
   "metadata": {},
   "source": [
    "* Crear archivo dentro de la direccion **/home/yalicar/Documents/maestria en data science/ciencia de datos/tarea1-adp** y realizar trabajo en **jupyter lab**."
   ]
  },
  {
   "cell_type": "markdown",
   "metadata": {},
   "source": [
    "* Cargar archivos al **staging area** usando `git add .` para carga todos los archivos de la carptea actual."
   ]
  },
  {
   "cell_type": "markdown",
   "metadata": {},
   "source": [
    "* `git commit -m \"comentario del commit\"'"
   ]
  },
  {
   "cell_type": "markdown",
   "metadata": {},
   "source": [
    "* \n",
    "```\n",
    "git pull origin main\n",
    "```"
   ]
  },
  {
   "cell_type": "markdown",
   "metadata": {},
   "source": [
    "* \n",
    "```\n",
    "git push origin main\n",
    "```"
   ]
  },
  {
   "cell_type": "markdown",
   "metadata": {},
   "source": [
    "Nota: al Usar el comando `git push origin main` se solicita el usuario y contraseña las cuales deberan proporcionarse para poder realizar la operacion."
   ]
  },
  {
   "cell_type": "markdown",
   "metadata": {},
   "source": [
    "Nota: se puede realizar la carga de de archivos locales a Github sin haber colando el repositorio previamente se puede ver un ejemplo en el siguiente [Video](https://www.youtube.com/watch?v=c4kq10VBr0Y\n",
    "\"optional title\")."
   ]
  },
  {
   "cell_type": "markdown",
   "metadata": {},
   "source": [
    "## Conclusiones "
   ]
  },
  {
   "cell_type": "markdown",
   "metadata": {},
   "source": [
    "Git es una herramienta dise;ada para el control de versiones de codigo fuente , adicionalmente se puede llevar el control de cambios de archivos pertenecientes a un direcctorio,\n",
    "con Git es posible el desarrollo de aplicaciones de gran tamaño en colaboracion brindando la posibilidad de saber quien realiza cambios y en que partes de el codigo fueron realizados\n",
    "los cambios."
   ]
  },
  {
   "cell_type": "markdown",
   "metadata": {},
   "source": [
    "## Ejemplos adicionales de markdown"
   ]
  },
  {
   "cell_type": "markdown",
   "metadata": {},
   "source": [
    "Ejemplo tachado de frases:"
   ]
  },
  {
   "cell_type": "markdown",
   "metadata": {},
   "source": [
    "* ~~Este texto está tachado.~~ Pero este no."
   ]
  },
  {
   "cell_type": "markdown",
   "metadata": {},
   "source": [
    "Ejemplo de tabla:"
   ]
  },
  {
   "cell_type": "markdown",
   "metadata": {},
   "source": [
    "|Item |Activo|Mascota|\n",
    "|:-----|:----:|----:|\n",
    "|1 |casa |gato |\n",
    "|2 |carro|caballo|\n",
    "|3 |bicicleta|perro|\n",
    "|4 |avion|jirafa|"
   ]
  },
  {
   "cell_type": "code",
   "execution_count": null,
   "metadata": {},
   "outputs": [],
   "source": []
  }
 ],
 "metadata": {
  "kernelspec": {
   "display_name": "Python 3",
   "language": "python",
   "name": "python3"
  },
  "language_info": {
   "codemirror_mode": {
    "name": "ipython",
    "version": 3
   },
   "file_extension": ".py",
   "mimetype": "text/x-python",
   "name": "python",
   "nbconvert_exporter": "python",
   "pygments_lexer": "ipython3",
   "version": "3.8.5"
  }
 },
 "nbformat": 4,
 "nbformat_minor": 4
}
