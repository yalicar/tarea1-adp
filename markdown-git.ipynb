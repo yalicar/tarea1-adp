{
 "cells": [
  {
   "cell_type": "markdown",
   "metadata": {},
   "source": [
    "# Resumen sobre GIT"
   ]
  },
  {
   "cell_type": "markdown",
   "metadata": {},
   "source": [
    "GIT es un **VCS** por sus siglas en ingles Versión Control System, es una herramienta que sirve para dar seguimiento a los cambios del código fuente u otras colecciones de archivos o carpetas, adicionalmente de mantener el historial de cambio esta herramienta sirve para facilitar la colaboración. Los VCSs guardan metadatos los cuales registran quien creo cada instantánea, comentarios o mensajes asociados a cada instancian, fecha de edición etc. En los VCS cuando se trabajan en colaboración con otros es una herramienta invaluable para ver qué cambios se han realizado otras personas en el código, así como para resolver conflictos en el código recurrente."
   ]
  },
  {
   "cell_type": "markdown",
   "metadata": {},
   "source": [
    "## Modelo de datos con GIT"
   ]
  },
  {
   "cell_type": "markdown",
   "metadata": {},
   "source": [
    "GIT tiene un modelo bien pensado que habilita todas las buenas características del control de versiones, mantiene el historial, da soporte a las ramas, y permite la colaboración."
   ]
  },
  {
   "cell_type": "markdown",
   "metadata": {},
   "source": [
    "### Instantaneas"
   ]
  },
  {
   "cell_type": "markdown",
   "metadata": {},
   "source": [
    "Git modela el historial de una colección de archivos y carpetas dentro de algún directorio de nivel superior como instantáneas. Una instamtanea es un árbol de nivel superior que se está rastreando. En la terminología Git un archivo es llamado blob lo cual es un montón de bits y un directorio es llamado árbol. "
   ]
  },
  {
   "cell_type": "markdown",
   "metadata": {},
   "source": [
    "### Historial de modelado: relacionar instantaneas"
   ]
  },
  {
   "cell_type": "markdown",
   "metadata": {},
   "source": [
    "En GIT un historial es un gráfico acíclico dirigido de instantáneas, cada instantánea git se refiere a un conjunto de “padres” a las instantáneas que las precedieron, es un conjunto de padres en lugar de una, ya que una instantánea puede descender de un conjunto de padres debido a la fusión de dos ramas paralelas del desarrollo. "
   ]
  },
  {
   "cell_type": "markdown",
   "metadata": {},
   "source": [
    "GIT llama a estas instantáneas confirmaciones “COMMITS”, un historial de confirmaciones puede verse de la siguiente manera: "
   ]
  },
  {
   "cell_type": "code",
   "execution_count": null,
   "metadata": {},
   "outputs": [],
   "source": []
  }
 ],
 "metadata": {
  "kernelspec": {
   "display_name": "Python 3",
   "language": "python",
   "name": "python3"
  },
  "language_info": {
   "codemirror_mode": {
    "name": "ipython",
    "version": 3
   },
   "file_extension": ".py",
   "mimetype": "text/x-python",
   "name": "python",
   "nbconvert_exporter": "python",
   "pygments_lexer": "ipython3",
   "version": "3.8.5"
  }
 },
 "nbformat": 4,
 "nbformat_minor": 4
}
